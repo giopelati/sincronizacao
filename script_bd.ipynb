{
 "cells": [
  {
   "cell_type": "markdown",
   "id": "c469f744",
   "metadata": {},
   "source": [
    "## <center>**Sincronização de Banco de Dados** - Grupo 2<center>\n"
   ]
  },
  {
   "cell_type": "markdown",
   "id": "2ef2e9fc",
   "metadata": {},
   "source": [
    "Imports"
   ]
  },
  {
   "cell_type": "code",
   "execution_count": 16,
   "id": "f780b613",
   "metadata": {},
   "outputs": [
    {
     "data": {
      "text/plain": [
       "True"
      ]
     },
     "execution_count": 16,
     "metadata": {},
     "output_type": "execute_result"
    }
   ],
   "source": [
    "import pandas as pd\n",
    "import psycopg2\n",
    "import os\n",
    "from dotenv import load_dotenv\n",
    "\n",
    "load_dotenv()"
   ]
  },
  {
   "cell_type": "markdown",
   "id": "7c933ea6",
   "metadata": {},
   "source": [
    "Conexão com o Banco Origem "
   ]
  },
  {
   "cell_type": "code",
   "execution_count": 17,
   "id": "fa00f670",
   "metadata": {},
   "outputs": [
    {
     "name": "stdout",
     "output_type": "stream",
     "text": [
      "Conexão estabelecida com sucesso!\n"
     ]
    }
   ],
   "source": [
    "conn_source = psycopg2.connect(\n",
    "    host=os.getenv(\"SOURCE_HOST\"),\n",
    "    database=\"db Copa \",\n",
    "    user=os.getenv(\"SOURCE_USER\"),\n",
    "    password=os.getenv(\"SOURCE_PASSWORD\"),\n",
    "    port=os.getenv(\"SOURCE_PORT\")\n",
    ")\n",
    "\n",
    "try:\n",
    "    cur_source = conn_source.cursor()\n",
    "    print(\"Conexão estabelecida com sucesso!\")\n",
    "except Exception as e:\n",
    "    print(\"Erro ao conectar ao banco de dados:\\n\", e)"
   ]
  },
  {
   "cell_type": "markdown",
   "id": "d6707ed9",
   "metadata": {},
   "source": [
    "Conexão com o Banco Target"
   ]
  },
  {
   "cell_type": "code",
   "execution_count": 18,
   "id": "06ebc933",
   "metadata": {},
   "outputs": [
    {
     "name": "stdout",
     "output_type": "stream",
     "text": [
      "Conexão estabelecida com sucesso!\n"
     ]
    }
   ],
   "source": [
    "conn_target = psycopg2.connect(\n",
    "    host=os.getenv(\"TARGET_HOST\"),\n",
    "    database=os.getenv(\"TARGET_DATABASE\"),\n",
    "    user=os.getenv(\"TARGET_USER\"),\n",
    "    password=os.getenv(\"TARGET_PASSWORD\"),\n",
    "    port=os.getenv(\"TARGET_PORT\")\n",
    ")\n",
    "\n",
    "try:\n",
    "    cur_target = conn_target.cursor()\n",
    "    print(\"Conexão estabelecida com sucesso!\")\n",
    "except Exception as e:\n",
    "    print(\"Erro ao conectar ao banco de dados:\\n\", e)"
   ]
  },
  {
   "cell_type": "markdown",
   "id": "5ab40cbb",
   "metadata": {},
   "source": [
    "Funções de INSERT"
   ]
  },
  {
   "cell_type": "code",
   "execution_count": 19,
   "id": "6c11327d",
   "metadata": {},
   "outputs": [],
   "source": [
    "def insert_paises(df, cur_target, conn_target):\n",
    "    query = \"\"\"\n",
    "        INSERT INTO paises (\n",
    "            id, nome, continente, qnt_titulos,\n",
    "            criado_em, atualizado_em\n",
    "        )\n",
    "        VALUES (%s, %s, %s, %s, CURRENT_TIMESTAMP, CURRENT_TIMESTAMP);\n",
    "    \"\"\"\n",
    "    data = [\n",
    "        (\n",
    "            int(ii[\"id\"]),\n",
    "            ii[\"nome\"],\n",
    "            ii[\"continente\"],\n",
    "            int(ii[\"qnt_titulos\"]),\n",
    "        )\n",
    "        for i, ii in df.iterrows()\n",
    "    ]\n",
    "\n",
    "    cur_target.executemany(query, data)\n",
    "    conn_target.commit()"
   ]
  },
  {
   "cell_type": "code",
   "execution_count": 20,
   "id": "c0398de0",
   "metadata": {},
   "outputs": [],
   "source": [
    "def insert_jogadores(df, cur_target, conn_target):\n",
    "    query = \"\"\"\n",
    "        INSERT INTO jogadores (\n",
    "            id, nome, data_nascimento, posicao, altura, peso, pais_id,\n",
    "            criado_em, atualizado_em\n",
    "        )\n",
    "        VALUES (%s, %s, %s, %s, %s, %s, %s, CURRENT_TIMESTAMP, CURRENT_TIMESTAMP);\n",
    "    \"\"\"\n",
    "    data = [\n",
    "        (\n",
    "            int(ii[\"id\"]),\n",
    "            ii[\"nome\"],\n",
    "            ii[\"data_nascimento\"],\n",
    "            ii[\"posicao\"],\n",
    "            float(ii[\"altura\"]),\n",
    "            float(ii[\"peso\"]),\n",
    "            int(ii[\"pais_id\"]),\n",
    "        )\n",
    "        for i, ii in df.iterrows()\n",
    "    ]\n",
    "\n",
    "    cur_target.executemany(query, data)\n",
    "    conn_target.commit()\n"
   ]
  },
  {
   "cell_type": "code",
   "execution_count": 21,
   "id": "b61d14c9",
   "metadata": {},
   "outputs": [],
   "source": [
    "def insert_partidas(df, cur_target, conn_target):\n",
    "    query = \"\"\"\n",
    "        INSERT INTO partidas (\n",
    "            id, data_partida, estadio, time_casa_id, time_visitante_id,\n",
    "            placar_casa, placar_visitante, qnt_faltas_casa, qnt_faltas_visitante,\n",
    "            criado_em, atualizado_em\n",
    "        )\n",
    "        VALUES (%s, %s, %s, %s, %s, %s, %s, %s, %s, CURRENT_TIMESTAMP, CURRENT_TIMESTAMP);\n",
    "    \"\"\"\n",
    "    data = [\n",
    "        (\n",
    "            int(ii[\"id\"]),\n",
    "            ii[\"data_partida\"],\n",
    "            ii[\"estadio\"],\n",
    "            int(ii[\"time_casa_id\"]),\n",
    "            int(ii[\"time_visitante_id\"]),\n",
    "            int(ii[\"placar_casa\"]),\n",
    "            int(ii[\"placar_visitante\"]),\n",
    "            int(ii[\"qnt_faltas_casa\"]),\n",
    "            int(ii[\"qnt_faltas_visitante\"]),\n",
    "        )\n",
    "        for i, ii in df.iterrows()\n",
    "    ]\n",
    "\n",
    "    cur_target.executemany(query, data)\n",
    "    conn_target.commit()"
   ]
  },
  {
   "cell_type": "code",
   "execution_count": 22,
   "id": "25e03753",
   "metadata": {},
   "outputs": [],
   "source": [
    "def insert_campeonatos(df, cur_target, conn_target):\n",
    "    query = \"\"\"\n",
    "        INSERT INTO campeonatos (\n",
    "            id, ano, sede, campeao_id, vice_id,\n",
    "            criado_em, atualizado_em\n",
    "        )\n",
    "        VALUES (%s, %s, %s, %s, %s, CURRENT_TIMESTAMP, CURRENT_TIMESTAMP);\n",
    "    \"\"\"\n",
    "    data = [\n",
    "        (\n",
    "            int(ii[\"id\"]),\n",
    "            int(ii[\"ano\"]),\n",
    "            ii[\"sede\"],\n",
    "            ii[\"campeao_id\"],\n",
    "            ii[\"vice_id\"],\n",
    "        )\n",
    "        for i, ii in df.iterrows()\n",
    "    ]\n",
    "\n",
    "    cur_target.executemany(query, data)\n",
    "    conn_target.commit()\n"
   ]
  },
  {
   "cell_type": "code",
   "execution_count": 23,
   "id": "1dff6f4b",
   "metadata": {},
   "outputs": [],
   "source": [
    "def insert_fases(df, cur_target, conn_target):\n",
    "    query = \"\"\"\n",
    "        INSERT INTO fases (\n",
    "            id, nome,\n",
    "            criado_em, atualizado_em\n",
    "        )\n",
    "        VALUES (%s, %s, CURRENT_TIMESTAMP, CURRENT_TIMESTAMP);\n",
    "    \"\"\"\n",
    "    data = [\n",
    "        (\n",
    "            int(ii[\"id\"]),\n",
    "            ii[\"nome\"],\n",
    "        )\n",
    "        for i, ii in df.iterrows()\n",
    "    ]\n",
    "\n",
    "    cur_target.executemany(query, data)\n",
    "    conn_target.commit()"
   ]
  },
  {
   "cell_type": "code",
   "execution_count": 24,
   "id": "668bff6e",
   "metadata": {},
   "outputs": [],
   "source": [
    "def insert_chaveamento(df, cur_target, conn_target):\n",
    "    query = \"\"\"\n",
    "        INSERT INTO chaveamento (\n",
    "            id, campeonato_id, fase_id, partida_id, vencedor_id,\n",
    "            criado_em, atualizado_em\n",
    "        )\n",
    "        VALUES (%s, %s, %s, %s, %s, CURRENT_TIMESTAMP, CURRENT_TIMESTAMP);\n",
    "    \"\"\"\n",
    "    data = [\n",
    "        (\n",
    "            int(ii[\"id\"]),\n",
    "            int(ii[\"campeonato_id\"]),\n",
    "            int(ii[\"fase_id\"]),\n",
    "            int(ii[\"partida_id\"]),\n",
    "            ii[\"vencedor_id\"],\n",
    "        )\n",
    "        for i, ii in df.iterrows()\n",
    "    ]\n",
    "\n",
    "    cur_target.executemany(query, data)\n",
    "    conn_target.commit()"
   ]
  },
  {
   "cell_type": "markdown",
   "id": "3b98e611",
   "metadata": {},
   "source": [
    "Funções de UPDATE"
   ]
  },
  {
   "cell_type": "code",
   "execution_count": 25,
   "id": "de8110fd",
   "metadata": {},
   "outputs": [],
   "source": [
    "def update_paises(df, cur_target, conn_target):\n",
    "    for i, ii in df.iterrows():\n",
    "        query = \"\"\"\n",
    "            UPDATE paises\n",
    "            SET nome = %s,\n",
    "                continente = %s,\n",
    "                qnt_titulos = %s,\n",
    "                atualizado_em = CURRENT_TIMESTAMP\n",
    "            WHERE id = %s;\n",
    "        \"\"\"\n",
    "        values = (\n",
    "            ii[\"nome\"],\n",
    "            ii[\"continente\"],\n",
    "            ii[\"qnt_titulos\"],\n",
    "            ii[\"id\"]\n",
    "        )\n",
    "        cur_target.execute(query, values)\n",
    "\n",
    "    conn_target.commit()"
   ]
  },
  {
   "cell_type": "code",
   "execution_count": 26,
   "id": "5862a871",
   "metadata": {},
   "outputs": [],
   "source": [
    "def update_jogadores(df, cur_target, conn_target):\n",
    "    for i, ii in df.iterrows():\n",
    "        query = \"\"\"\n",
    "            UPDATE jogadores\n",
    "            SET nome = %s,\n",
    "                data_nascimento = %s,\n",
    "                posicao = %s,\n",
    "                altura = %s,\n",
    "                peso = %s,\n",
    "                pais_id = %s,\n",
    "                atualizado_em = CURRENT_TIMESTAMP\n",
    "            WHERE id = %s;\n",
    "        \"\"\"\n",
    "        values = (\n",
    "            ii[\"nome\"],\n",
    "            ii[\"data_nascimento\"],\n",
    "            ii[\"posicao\"],\n",
    "            ii[\"altura\"],\n",
    "            ii[\"peso\"],\n",
    "            ii[\"pais_id\"],\n",
    "            ii[\"id\"]\n",
    "        )\n",
    "        cur_target.execute(query, values)\n",
    "\n",
    "    conn_target.commit()"
   ]
  },
  {
   "cell_type": "code",
   "execution_count": 27,
   "id": "5cc07bd2",
   "metadata": {},
   "outputs": [],
   "source": [
    "def update_partidas(df, cur_target, conn_target):\n",
    "    for i, ii in df.iterrows():\n",
    "        query = \"\"\"\n",
    "            UPDATE partidas\n",
    "            SET data_partida = %s,\n",
    "                estadio = %s,\n",
    "                time_casa_id = %s,\n",
    "                time_visitante_id = %s,\n",
    "                placar_casa = %s,\n",
    "                placar_visitante = %s,\n",
    "                qnt_faltas_casa = %s,\n",
    "                qnt_faltas_visitante = %s,\n",
    "                atualizado_em = CURRENT_TIMESTAMP\n",
    "            WHERE id = %s;\n",
    "        \"\"\"\n",
    "        values = (\n",
    "            ii[\"data_partida\"],\n",
    "            ii[\"estadio\"],\n",
    "            ii[\"time_casa_id\"],\n",
    "            ii[\"time_visitante_id\"],\n",
    "            ii[\"placar_casa\"],\n",
    "            ii[\"placar_visitante\"],\n",
    "            ii[\"qnt_faltas_casa\"],\n",
    "            ii[\"qnt_faltas_visitante\"],\n",
    "            ii[\"id\"]\n",
    "        )\n",
    "        cur_target.execute(query, values)\n",
    "\n",
    "    conn_target.commit()"
   ]
  },
  {
   "cell_type": "code",
   "execution_count": 28,
   "id": "69646353",
   "metadata": {},
   "outputs": [],
   "source": [
    "def update_campeonatos(df, cur_target, conn_target):\n",
    "    for i, ii in df.iterrows():\n",
    "        query = \"\"\"\n",
    "            UPDATE campeonatos\n",
    "            SET ano = %s,\n",
    "                sede = %s,\n",
    "                campeao_id = %s,\n",
    "                vice_id = %s,\n",
    "                atualizado_em = CURRENT_TIMESTAMP\n",
    "            WHERE id = %s;\n",
    "        \"\"\"\n",
    "        values = (\n",
    "            ii[\"ano\"],\n",
    "            ii[\"sede\"],\n",
    "            ii[\"campeao_id\"],\n",
    "            ii[\"vice_id\"],\n",
    "            ii[\"id\"]\n",
    "        )\n",
    "        cur_target.execute(query, values)\n",
    "\n",
    "    conn_target.commit()"
   ]
  },
  {
   "cell_type": "code",
   "execution_count": 29,
   "id": "e5e651f5",
   "metadata": {},
   "outputs": [],
   "source": [
    "def update_fases(df, cur_target, conn_target):\n",
    "    for i, ii in df.iterrows():\n",
    "        query = \"\"\"\n",
    "            UPDATE fases\n",
    "            SET nome = %s,\n",
    "                atualizado_em = CURRENT_TIMESTAMP\n",
    "            WHERE id = %s;\n",
    "        \"\"\"\n",
    "        values = (\n",
    "            ii[\"nome\"],\n",
    "            ii[\"id\"]\n",
    "        )\n",
    "        cur_target.execute(query, values)\n",
    "\n",
    "    conn_target.commit()"
   ]
  },
  {
   "cell_type": "code",
   "execution_count": 30,
   "id": "6899018e",
   "metadata": {},
   "outputs": [],
   "source": [
    "def update_chaveamento(df, cur_target, conn_target):\n",
    "    for i, ii in df.iterrows():\n",
    "        query = \"\"\"\n",
    "            UPDATE chaveamento\n",
    "            SET campeonato_id = %s,\n",
    "                fase_id = %s,\n",
    "                partida_id = %s,\n",
    "                vencedor_id = %s,\n",
    "                atualizado_em = CURRENT_TIMESTAMP\n",
    "            WHERE id = %s;\n",
    "        \"\"\"\n",
    "        values = (\n",
    "            ii[\"campeonato_id\"],\n",
    "            ii[\"fase_id\"],\n",
    "            ii[\"partida_id\"],\n",
    "            ii[\"vencedor_id\"],\n",
    "            ii[\"id\"]\n",
    "        )\n",
    "        cur_target.execute(query, values)\n",
    "\n",
    "    conn_target.commit()"
   ]
  }
 ],
 "metadata": {
  "kernelspec": {
   "display_name": "Python 3",
   "language": "python",
   "name": "python3"
  },
  "language_info": {
   "codemirror_mode": {
    "name": "ipython",
    "version": 3
   },
   "file_extension": ".py",
   "mimetype": "text/x-python",
   "name": "python",
   "nbconvert_exporter": "python",
   "pygments_lexer": "ipython3",
   "version": "3.13.3"
  }
 },
 "nbformat": 4,
 "nbformat_minor": 5
}
