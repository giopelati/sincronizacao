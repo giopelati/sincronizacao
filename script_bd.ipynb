{
 "cells": [
  {
   "cell_type": "markdown",
   "id": "c469f744",
   "metadata": {},
   "source": [
    "## <center>**Sincronização de Banco de Dados** - Grupo 2<center>\n"
   ]
  },
  {
   "cell_type": "markdown",
   "id": "2ef2e9fc",
   "metadata": {},
   "source": [
    "Imports"
   ]
  },
  {
   "cell_type": "code",
   "execution_count": 11,
   "id": "f780b613",
   "metadata": {},
   "outputs": [
    {
     "data": {
      "text/plain": [
       "True"
      ]
     },
     "execution_count": 11,
     "metadata": {},
     "output_type": "execute_result"
    }
   ],
   "source": [
    "import pandas as pd\n",
    "import psycopg2\n",
    "import os\n",
    "from dotenv import load_dotenv\n",
    "\n",
    "load_dotenv()"
   ]
  },
  {
   "cell_type": "markdown",
   "id": "7c933ea6",
   "metadata": {},
   "source": [
    "Conexão com o Banco Origem "
   ]
  },
  {
   "cell_type": "code",
   "execution_count": 12,
   "id": "fa00f670",
   "metadata": {},
   "outputs": [
    {
     "name": "stdout",
     "output_type": "stream",
     "text": [
      "Conexão estabelecida com sucesso!\n"
     ]
    }
   ],
   "source": [
    "conn_source = psycopg2.connect(\n",
    "    host=os.getenv(\"SOURCE_HOST\"),\n",
    "    database=os.getenv(\"SOURCE_DATABASE\"),\n",
    "    user=os.getenv(\"SOURCE_USER\"),\n",
    "    password=os.getenv(\"SOURCE_PASSWORD\"),\n",
    "    port=os.getenv(\"SOURCE_PORT\")\n",
    ")\n",
    "\n",
    "try:\n",
    "    cur_source = conn_source.cursor()\n",
    "    print(\"Conexão estabelecida com sucesso!\")\n",
    "except Exception as e:\n",
    "    print(\"Erro ao conectar ao banco de dados:\\n\", e)"
   ]
  },
  {
   "cell_type": "markdown",
   "id": "d6707ed9",
   "metadata": {},
   "source": [
    "Conexão com o Banco Target"
   ]
  },
  {
   "cell_type": "code",
   "execution_count": 8,
   "id": "06ebc933",
   "metadata": {},
   "outputs": [
    {
     "name": "stdout",
     "output_type": "stream",
     "text": [
      "Conexão estabelecida com sucesso!\n"
     ]
    }
   ],
   "source": [
    "conn_target = psycopg2.connect(\n",
    "    host=os.getenv(\"TARGET_HOST\"),\n",
    "    database=os.getenv(\"TARGET_DATABASE\"),\n",
    "    user=os.getenv(\"TARGET_USER\"),\n",
    "    password=os.getenv(\"TARGET_PASSWORD\"),\n",
    "    port=os.getenv(\"TARGET_PORT\")\n",
    ")\n",
    "\n",
    "try:\n",
    "    cur_target = conn_target.cursor()\n",
    "    print(\"Conexão estabelecida com sucesso!\")\n",
    "except Exception as e:\n",
    "    print(\"Erro ao conectar ao banco de dados:\\n\", e)"
   ]
  },
  {
   "cell_type": "markdown",
   "id": "2274b4e8",
   "metadata": {},
   "source": [
    "Script Inicial"
   ]
  },
  {
   "cell_type": "code",
   "execution_count": null,
   "id": "e9630c4a",
   "metadata": {},
   "outputs": [],
   "source": [
    "# cur_target.execute(\"\"\"\n",
    "# CREATE TABLE paises (\n",
    "#     id SERIAL PRIMARY KEY,\n",
    "#     nome VARCHAR(100) NOT NULL,\n",
    "#     continente VARCHAR(50) NOT NULL,\n",
    "#     qnt_titulos INT NOT NULL DEFAULT 0,\n",
    "#     criado_em TIMESTAMP DEFAULT CURRENT_TIMESTAMP,\n",
    "#     atualizado_em TIMESTAMP DEFAULT CURRENT_TIMESTAMP\n",
    "# );\n",
    "\n",
    "# CREATE TABLE jogadores (\n",
    "#     id SERIAL PRIMARY KEY,\n",
    "#     nome VARCHAR(100) NOT NULL,\n",
    "#     data_nascimento DATE NOT NULL,\n",
    "#     posicao VARCHAR(50) NOT NULL,\n",
    "#     altura DECIMAL NULL,\n",
    "#     peso DECIMAL NULL,\n",
    "#     pais_id INT,\n",
    "#     criado_em TIMESTAMP DEFAULT CURRENT_TIMESTAMP,\n",
    "#     atualizado_em TIMESTAMP DEFAULT CURRENT_TIMESTAMP,\n",
    "#     FOREIGN KEY (pais_id) REFERENCES paises(id)\n",
    "# );\n",
    "\n",
    "# CREATE TABLE partidas (\n",
    "#     id SERIAL PRIMARY KEY,\n",
    "#     data_partida DATE NOT NULL,\n",
    "#     estadio VARCHAR(100) NOT NULL,\n",
    "#     time_casa_id INT,\n",
    "#     time_visitante_id INT,\n",
    "#     placar_casa INT,\n",
    "#     placar_visitante INT,\n",
    "#     qnt_faltas_casa INT,\n",
    "#     qnt_faltas_visitante INT,\n",
    "#     criado_em TIMESTAMP DEFAULT CURRENT_TIMESTAMP,\n",
    "#     atualizado_em TIMESTAMP DEFAULT CURRENT_TIMESTAMP,\n",
    "#     FOREIGN KEY (time_casa_id) REFERENCES paises(id),\n",
    "#     FOREIGN KEY (time_visitante_id) REFERENCES paises(id)\n",
    "# );\n",
    "\n",
    "# CREATE TABLE campeonatos (\n",
    "#     id SERIAL PRIMARY KEY,\n",
    "#     ano INT NOT NULL,\n",
    "#     sede VARCHAR(100),\n",
    "#     campeao_id INT,\n",
    "#     vice_id INT,\n",
    "#     criado_em TIMESTAMP DEFAULT CURRENT_TIMESTAMP,\n",
    "#     atualizado_em TIMESTAMP DEFAULT CURRENT_TIMESTAMP,\n",
    "#     FOREIGN KEY (campeao_id) REFERENCES paises(id),\n",
    "#     FOREIGN KEY (vice_id) REFERENCES paises(id)\n",
    "# );\n",
    "\n",
    "# CREATE TABLE fases (\n",
    "#     id SERIAL PRIMARY KEY,\n",
    "#     nome VARCHAR(50) NOT NULL, -- Oitavas, Quartas, Semifinal, Final\n",
    "#     criado_em TIMESTAMP DEFAULT CURRENT_TIMESTAMP,\n",
    "#     atualizado_em TIMESTAMP DEFAULT CURRENT_TIMESTAMP\n",
    "# );\n",
    "\n",
    "# CREATE TABLE chaveamento (\n",
    "#     id SERIAL PRIMARY KEY,\n",
    "#     campeonato_id INT NOT NULL,\n",
    "#     fase_id INT NOT NULL,\n",
    "#     partida_id INT NOT NULL,\n",
    "#     vencedor_id INT NULL,\n",
    "#     criado_em TIMESTAMP DEFAULT CURRENT_TIMESTAMP,\n",
    "#     atualizado_em TIMESTAMP DEFAULT CURRENT_TIMESTAMP,\n",
    "#     FOREIGN KEY (campeonato_id) REFERENCES campeonatos(id),\n",
    "#     FOREIGN KEY (fase_id) REFERENCES fases(id),\n",
    "#     FOREIGN KEY (partida_id) REFERENCES partidas(id),\n",
    "#     FOREIGN KEY (vencedor_id) REFERENCES paises(id)\n",
    "# );\n",
    "\n",
    "# INSERT INTO paises (nome, continente, qnt_titulos) VALUES\n",
    "# ('Brasil', 'América do Sul', 5),\n",
    "# ('Argentina', 'América do Sul', 3),\n",
    "# ('Alemanha', 'Europa', 4),\n",
    "# ('França', 'Europa', 2),\n",
    "# ('Japão', 'Ásia', 0);\n",
    "\n",
    "# INSERT INTO jogadores (nome, data_nascimento, posicao, pais_id) VALUES\n",
    "# ('Neymar Jr.', '1992-02-05', 'Atacante', 1),\n",
    "# ('Lionel Messi', '1987-06-24', 'Atacante', 2),\n",
    "# ('Thomas Müller', '1989-09-13', 'Meio-campista', 3),\n",
    "# ('Kylian Mbappé', '1998-12-20', 'Atacante', 4),\n",
    "# ('Vinicius Jr.', '2000-07-12', 'Atacante', 1);\n",
    "\n",
    "# INSERT INTO campeonatos (ano, sede, campeao_id, vice_id)\n",
    "# VALUES (2022, 'Catar', 2, 4);\n",
    "\n",
    "# INSERT INTO fases (nome) VALUES\n",
    "# ('Oitavas de final'),\n",
    "# ('Quartas de final'),\n",
    "# ('Semifinal'),\n",
    "# ('Final');\n",
    "\n",
    "# INSERT INTO partidas (data_partida, estadio, time_casa_id, time_visitante_id, placar_casa, placar_visitante)\n",
    "# VALUES ('2022-12-18', 'Estádio Lusail', 2, 4, 3, 3);\n",
    "\n",
    "# INSERT INTO chaveamento (campeonato_id, fase_id, partida_id, vencedor_id)\n",
    "# VALUES (1, 4, 1, 2);\n",
    "# \"\"\")\n",
    "# conn_target.commit()"
   ]
  }
 ],
 "metadata": {
  "kernelspec": {
   "display_name": "Python 3",
   "language": "python",
   "name": "python3"
  },
  "language_info": {
   "codemirror_mode": {
    "name": "ipython",
    "version": 3
   },
   "file_extension": ".py",
   "mimetype": "text/x-python",
   "name": "python",
   "nbconvert_exporter": "python",
   "pygments_lexer": "ipython3",
   "version": "3.13.3"
  }
 },
 "nbformat": 4,
 "nbformat_minor": 5
}
