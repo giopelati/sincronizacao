{
 "cells": [
  {
   "cell_type": "markdown",
   "id": "c469f744",
   "metadata": {},
   "source": [
    "## <center>**Sincronização de Banco de Dados** - Grupo 2<center>\n"
   ]
  },
  {
   "cell_type": "markdown",
   "id": "2ef2e9fc",
   "metadata": {},
   "source": [
    "Imports"
   ]
  },
  {
   "cell_type": "code",
   "id": "f780b613",
   "metadata": {
    "ExecuteTime": {
     "end_time": "2025-08-27T17:21:16.666235Z",
     "start_time": "2025-08-27T17:21:16.646138Z"
    }
   },
   "source": [
    "import pandas as pd\n",
    "import psycopg2\n",
    "import os\n",
    "from datetime import datetime\n",
    "from dotenv import load_dotenv\n",
    "\n",
    "load_dotenv()"
   ],
   "outputs": [
    {
     "data": {
      "text/plain": [
       "True"
      ]
     },
     "execution_count": 67,
     "metadata": {},
     "output_type": "execute_result"
    }
   ],
   "execution_count": 67
  },
  {
   "cell_type": "markdown",
   "id": "7c933ea6",
   "metadata": {},
   "source": [
    "Conexão com o Banco Origem "
   ]
  },
  {
   "cell_type": "code",
   "id": "fa00f670",
   "metadata": {
    "ExecuteTime": {
     "end_time": "2025-08-27T17:21:20.146868Z",
     "start_time": "2025-08-27T17:21:16.692692Z"
    }
   },
   "source": [
    "conn_source = psycopg2.connect(\n",
    "    host=os.getenv(\"SOURCE_HOST\"),\n",
    "    database=\"db Copa \",\n",
    "    user=os.getenv(\"SOURCE_USER\"),\n",
    "    password=os.getenv(\"SOURCE_PASSWORD\"),\n",
    "    port=os.getenv(\"SOURCE_PORT\")\n",
    ")\n",
    "\n",
    "try:\n",
    "    cur_source = conn_source.cursor()\n",
    "    print(\"Conexão estabelecida com sucesso!\")\n",
    "except Exception as e:\n",
    "    print(\"Erro ao conectar ao banco de dados:\\n\", e)"
   ],
   "outputs": [
    {
     "name": "stdout",
     "output_type": "stream",
     "text": [
      "Conexão estabelecida com sucesso!\n"
     ]
    }
   ],
   "execution_count": 68
  },
  {
   "cell_type": "markdown",
   "id": "d6707ed9",
   "metadata": {},
   "source": [
    "Conexão com o Banco Target"
   ]
  },
  {
   "cell_type": "code",
   "id": "06ebc933",
   "metadata": {
    "ExecuteTime": {
     "end_time": "2025-08-27T17:21:24.251617Z",
     "start_time": "2025-08-27T17:21:20.162996Z"
    }
   },
   "source": [
    "conn_target = psycopg2.connect(\n",
    "    host=os.getenv(\"TARGET_HOST\"),\n",
    "    database=os.getenv(\"TARGET_DATABASE\"),\n",
    "    user=os.getenv(\"TARGET_USER\"),\n",
    "    password=os.getenv(\"TARGET_PASSWORD\"),\n",
    "    port=os.getenv(\"TARGET_PORT\")\n",
    ")\n",
    "\n",
    "try:\n",
    "    cur_target = conn_target.cursor()\n",
    "    print(\"Conexão estabelecida com sucesso!\")\n",
    "except Exception as e:\n",
    "    print(\"Erro ao conectar ao banco de dados:\\n\", e)"
   ],
   "outputs": [
    {
     "name": "stdout",
     "output_type": "stream",
     "text": [
      "Conexão estabelecida com sucesso!\n"
     ]
    }
   ],
   "execution_count": 69
  },
  {
   "cell_type": "markdown",
   "id": "5ab40cbb",
   "metadata": {},
   "source": [
    "Funções de INSERT"
   ]
  },
  {
   "cell_type": "code",
   "id": "6c11327d",
   "metadata": {
    "ExecuteTime": {
     "end_time": "2025-08-27T17:21:24.284010Z",
     "start_time": "2025-08-27T17:21:24.278544Z"
    }
   },
   "source": [
    "def insert_paises(df, cur_target, conn_target):\n",
    "    query = \"\"\"\n",
    "        INSERT INTO paises (\n",
    "            id, nome, continente, qnt_titulos,\n",
    "            criado_em, atualizado_em\n",
    "        )\n",
    "        VALUES (%s, %s, %s, %s, CURRENT_TIMESTAMP, CURRENT_TIMESTAMP)\n",
    "        ON CONFLICT (id) DO NOTHING;\n",
    "    \"\"\"\n",
    "    data = [\n",
    "        (\n",
    "            int(ii[\"id\"]),\n",
    "            ii[\"nome\"],\n",
    "            ii[\"continente\"],\n",
    "            int(ii[\"qnt_titulos\"]),\n",
    "        )\n",
    "        for i, ii in df.iterrows()\n",
    "    ]\n",
    "\n",
    "    cur_target.executemany(query, data)\n",
    "    conn_target.commit()"
   ],
   "outputs": [],
   "execution_count": 70
  },
  {
   "cell_type": "code",
   "id": "c0398de0",
   "metadata": {
    "ExecuteTime": {
     "end_time": "2025-08-27T17:21:24.301414Z",
     "start_time": "2025-08-27T17:21:24.296338Z"
    }
   },
   "source": [
    "def insert_jogadores(df, cur_target, conn_target):\n",
    "    query = \"\"\"\n",
    "        INSERT INTO jogadores (\n",
    "            id, nome, data_nascimento, posicao, altura, peso, pais_id,\n",
    "            criado_em, atualizado_em\n",
    "        )\n",
    "        VALUES (%s, %s, %s, %s, %s, %s, %s, CURRENT_TIMESTAMP, CURRENT_TIMESTAMP)\n",
    "        ON CONFLICT (id) DO NOTHING;\n",
    "    \"\"\"\n",
    "    data = [\n",
    "        (\n",
    "            int(ii[\"id\"]),\n",
    "            ii[\"nome\"],\n",
    "            ii[\"data_nascimento\"],\n",
    "            ii[\"posicao\"],\n",
    "            float(ii[\"altura\"]),\n",
    "            float(ii[\"peso\"]),\n",
    "            int(ii[\"pais_id\"]),\n",
    "        )\n",
    "        for i, ii in df.iterrows()\n",
    "    ]\n",
    "\n",
    "    cur_target.executemany(query, data)\n",
    "    conn_target.commit()\n"
   ],
   "outputs": [],
   "execution_count": 71
  },
  {
   "cell_type": "code",
   "id": "b61d14c9",
   "metadata": {
    "ExecuteTime": {
     "end_time": "2025-08-27T17:21:24.323160Z",
     "start_time": "2025-08-27T17:21:24.315159Z"
    }
   },
   "source": [
    "def insert_partidas(df, cur_target, conn_target):\n",
    "    query = \"\"\"\n",
    "        INSERT INTO partidas (\n",
    "            id, data_partida, estadio, time_casa_id, time_visitante_id,\n",
    "            placar_casa, placar_visitante, qnt_faltas_casa, qnt_faltas_visitante,\n",
    "            criado_em, atualizado_em\n",
    "        )\n",
    "        VALUES (%s, %s, %s, %s, %s, %s, %s, %s, %s, CURRENT_TIMESTAMP, CURRENT_TIMESTAMP)\n",
    "        ON CONFLICT (id) DO NOTHING;\n",
    "    \"\"\"\n",
    "    data = [\n",
    "        (\n",
    "            int(ii[\"id\"]),\n",
    "            ii[\"data_partida\"],\n",
    "            ii[\"estadio\"],\n",
    "            int(ii[\"time_casa_id\"]),\n",
    "            int(ii[\"time_visitante_id\"]),\n",
    "            int(ii[\"placar_casa\"]),\n",
    "            int(ii[\"placar_visitante\"]),\n",
    "            int(ii[\"qnt_faltas_casa\"]),\n",
    "            int(ii[\"qnt_faltas_visitante\"]),\n",
    "        )\n",
    "        for i, ii in df.iterrows()\n",
    "    ]\n",
    "\n",
    "    cur_target.executemany(query, data)\n",
    "    conn_target.commit()"
   ],
   "outputs": [],
   "execution_count": 72
  },
  {
   "cell_type": "code",
   "id": "25e03753",
   "metadata": {
    "ExecuteTime": {
     "end_time": "2025-08-27T17:21:24.342785Z",
     "start_time": "2025-08-27T17:21:24.336722Z"
    }
   },
   "source": [
    "def insert_campeonatos(df, cur_target, conn_target):\n",
    "    query = \"\"\"\n",
    "        INSERT INTO campeonatos (\n",
    "            id, ano, sede, campeao_id, vice_id,\n",
    "            criado_em, atualizado_em\n",
    "        )\n",
    "        VALUES (%s, %s, %s, %s, %s, CURRENT_TIMESTAMP, CURRENT_TIMESTAMP)\n",
    "        ON CONFLICT (id) DO NOTHING;\n",
    "    \"\"\"\n",
    "    data = [\n",
    "        (\n",
    "            int(ii[\"id\"]),\n",
    "            int(ii[\"ano\"]),\n",
    "            ii[\"sede\"],\n",
    "            ii[\"campeao_id\"],\n",
    "            ii[\"vice_id\"],\n",
    "        )\n",
    "        for i, ii in df.iterrows()\n",
    "    ]\n",
    "\n",
    "    cur_target.executemany(query, data)\n",
    "    conn_target.commit()\n"
   ],
   "outputs": [],
   "execution_count": 73
  },
  {
   "cell_type": "code",
   "id": "1dff6f4b",
   "metadata": {
    "ExecuteTime": {
     "end_time": "2025-08-27T17:21:24.360139Z",
     "start_time": "2025-08-27T17:21:24.355116Z"
    }
   },
   "source": [
    "def insert_fases(df, cur_target, conn_target):\n",
    "    query = \"\"\"\n",
    "        INSERT INTO fases (\n",
    "            id, nome,\n",
    "            criado_em, atualizado_em\n",
    "        )\n",
    "        VALUES (%s, %s, CURRENT_TIMESTAMP, CURRENT_TIMESTAMP)\n",
    "        ON CONFLICT (id) DO NOTHING;\n",
    "    \"\"\"\n",
    "    data = [\n",
    "        (\n",
    "            int(ii[\"id\"]),\n",
    "            ii[\"nome\"],\n",
    "        )\n",
    "        for i, ii in df.iterrows()\n",
    "    ]\n",
    "\n",
    "    cur_target.executemany(query, data)\n",
    "    conn_target.commit()"
   ],
   "outputs": [],
   "execution_count": 74
  },
  {
   "cell_type": "code",
   "id": "668bff6e",
   "metadata": {
    "ExecuteTime": {
     "end_time": "2025-08-27T17:21:24.383096Z",
     "start_time": "2025-08-27T17:21:24.376118Z"
    }
   },
   "source": [
    "def insert_chaveamentos(df, cur_target, conn_target):\n",
    "    query = \"\"\"\n",
    "        INSERT INTO chaveamento (\n",
    "            id, campeonato_id, fase_id, partida_id, vencedor_id,\n",
    "            criado_em, atualizado_em\n",
    "        )\n",
    "        VALUES (%s, %s, %s, %s, %s, CURRENT_TIMESTAMP, CURRENT_TIMESTAMP)\n",
    "        ON CONFLICT (id) DO NOTHING;\n",
    "    \"\"\"\n",
    "    data = [\n",
    "        (\n",
    "            int(ii[\"id\"]),\n",
    "            int(ii[\"campeonato_id\"]),\n",
    "            int(ii[\"fase_id\"]),\n",
    "            int(ii[\"partida_id\"]),\n",
    "            ii[\"vencedor_id\"],\n",
    "        )\n",
    "        for i, ii in df.iterrows()\n",
    "    ]\n",
    "\n",
    "    cur_target.executemany(query, data)\n",
    "    conn_target.commit()"
   ],
   "outputs": [],
   "execution_count": 75
  },
  {
   "cell_type": "markdown",
   "id": "3b98e611",
   "metadata": {},
   "source": [
    "Funções de UPDATE"
   ]
  },
  {
   "cell_type": "code",
   "id": "de8110fd",
   "metadata": {
    "ExecuteTime": {
     "end_time": "2025-08-27T17:21:24.404455Z",
     "start_time": "2025-08-27T17:21:24.397173Z"
    }
   },
   "source": [
    "def update_paises(df, cur_target, conn_target):\n",
    "    for i, ii in df.iterrows():\n",
    "        query = \"\"\"\n",
    "            UPDATE paises\n",
    "            SET nome = %s,\n",
    "                continente = %s,\n",
    "                qnt_titulos = %s,\n",
    "                atualizado_em = CURRENT_TIMESTAMP\n",
    "            WHERE id = %s;\n",
    "        \"\"\"\n",
    "        values = (\n",
    "            ii[\"nome\"],\n",
    "            ii[\"continente\"],\n",
    "            ii[\"qnt_titulos\"],\n",
    "            ii[\"id\"]\n",
    "        )\n",
    "        cur_target.execute(query, values)\n",
    "\n",
    "    conn_target.commit()"
   ],
   "outputs": [],
   "execution_count": 76
  },
  {
   "cell_type": "code",
   "id": "5862a871",
   "metadata": {
    "ExecuteTime": {
     "end_time": "2025-08-27T17:21:24.427409Z",
     "start_time": "2025-08-27T17:21:24.420406Z"
    }
   },
   "source": [
    "def update_jogadores(df, cur_target, conn_target):\n",
    "    for i, ii in df.iterrows():\n",
    "        query = \"\"\"\n",
    "            UPDATE jogadores\n",
    "            SET nome = %s,\n",
    "                data_nascimento = %s,\n",
    "                posicao = %s,\n",
    "                altura = %s,\n",
    "                peso = %s,\n",
    "                pais_id = %s,\n",
    "                atualizado_em = CURRENT_TIMESTAMP\n",
    "            WHERE id = %s;\n",
    "        \"\"\"\n",
    "        values = (\n",
    "            ii[\"nome\"],\n",
    "            ii[\"data_nascimento\"],\n",
    "            ii[\"posicao\"],\n",
    "            ii[\"altura\"],\n",
    "            ii[\"peso\"],\n",
    "            ii[\"pais_id\"],\n",
    "            ii[\"id\"]\n",
    "        )\n",
    "        cur_target.execute(query, values)\n",
    "\n",
    "    conn_target.commit()"
   ],
   "outputs": [],
   "execution_count": 77
  },
  {
   "cell_type": "code",
   "id": "5cc07bd2",
   "metadata": {
    "ExecuteTime": {
     "end_time": "2025-08-27T17:21:24.452101Z",
     "start_time": "2025-08-27T17:21:24.443751Z"
    }
   },
   "source": [
    "def update_partidas(df, cur_target, conn_target):\n",
    "    for i, ii in df.iterrows():\n",
    "        query = \"\"\"\n",
    "            UPDATE partidas\n",
    "            SET data_partida = %s,\n",
    "                estadio = %s,\n",
    "                time_casa_id = %s,\n",
    "                time_visitante_id = %s,\n",
    "                placar_casa = %s,\n",
    "                placar_visitante = %s,\n",
    "                qnt_faltas_casa = %s,\n",
    "                qnt_faltas_visitante = %s,\n",
    "                atualizado_em = CURRENT_TIMESTAMP\n",
    "            WHERE id = %s;\n",
    "        \"\"\"\n",
    "        values = (\n",
    "            ii[\"data_partida\"],\n",
    "            ii[\"estadio\"],\n",
    "            ii[\"time_casa_id\"],\n",
    "            ii[\"time_visitante_id\"],\n",
    "            ii[\"placar_casa\"],\n",
    "            ii[\"placar_visitante\"],\n",
    "            ii[\"qnt_faltas_casa\"],\n",
    "            ii[\"qnt_faltas_visitante\"],\n",
    "            ii[\"id\"]\n",
    "        )\n",
    "        cur_target.execute(query, values)\n",
    "\n",
    "    conn_target.commit()"
   ],
   "outputs": [],
   "execution_count": 78
  },
  {
   "cell_type": "code",
   "id": "69646353",
   "metadata": {
    "ExecuteTime": {
     "end_time": "2025-08-27T17:21:24.473520Z",
     "start_time": "2025-08-27T17:21:24.466519Z"
    }
   },
   "source": [
    "def update_campeonatos(df, cur_target, conn_target):\n",
    "    for i, ii in df.iterrows():\n",
    "        query = \"\"\"\n",
    "            UPDATE campeonatos\n",
    "            SET ano = %s,\n",
    "                sede = %s,\n",
    "                campeao_id = %s,\n",
    "                vice_id = %s,\n",
    "                atualizado_em = CURRENT_TIMESTAMP\n",
    "            WHERE id = %s;\n",
    "        \"\"\"\n",
    "        values = (\n",
    "            ii[\"ano\"],\n",
    "            ii[\"sede\"],\n",
    "            ii[\"campeao_id\"],\n",
    "            ii[\"vice_id\"],\n",
    "            ii[\"id\"]\n",
    "        )\n",
    "        cur_target.execute(query, values)\n",
    "\n",
    "    conn_target.commit()"
   ],
   "outputs": [],
   "execution_count": 79
  },
  {
   "cell_type": "code",
   "id": "e5e651f5",
   "metadata": {
    "ExecuteTime": {
     "end_time": "2025-08-27T17:21:24.492855Z",
     "start_time": "2025-08-27T17:21:24.486924Z"
    }
   },
   "source": [
    "def update_fases(df, cur_target, conn_target):\n",
    "    for i, ii in df.iterrows():\n",
    "        query = \"\"\"\n",
    "            UPDATE fases\n",
    "            SET nome = %s,\n",
    "                atualizado_em = CURRENT_TIMESTAMP\n",
    "            WHERE id = %s;\n",
    "        \"\"\"\n",
    "        values = (\n",
    "            ii[\"nome\"],\n",
    "            ii[\"id\"]\n",
    "        )\n",
    "        cur_target.execute(query, values)\n",
    "\n",
    "    conn_target.commit()"
   ],
   "outputs": [],
   "execution_count": 80
  },
  {
   "cell_type": "code",
   "id": "6899018e",
   "metadata": {
    "ExecuteTime": {
     "end_time": "2025-08-27T17:21:24.508346Z",
     "start_time": "2025-08-27T17:21:24.502899Z"
    }
   },
   "source": [
    "def update_chaveamentos(df, cur_target, conn_target):\n",
    "    for i, ii in df.iterrows():\n",
    "        query = \"\"\"\n",
    "            UPDATE chaveamento\n",
    "            SET campeonato_id = %s,\n",
    "                fase_id = %s,\n",
    "                partida_id = %s,\n",
    "                vencedor_id = %s,\n",
    "                atualizado_em = CURRENT_TIMESTAMP\n",
    "            WHERE id = %s;\n",
    "        \"\"\"\n",
    "        values = (\n",
    "            ii[\"campeonato_id\"],\n",
    "            ii[\"fase_id\"],\n",
    "            ii[\"partida_id\"],\n",
    "            ii[\"vencedor_id\"],\n",
    "            ii[\"id\"]\n",
    "        )\n",
    "        cur_target.execute(query, values)\n",
    "\n",
    "    conn_target.commit()"
   ],
   "outputs": [],
   "execution_count": 81
  },
  {
   "cell_type": "code",
   "id": "18ec24a3",
   "metadata": {
    "ExecuteTime": {
     "end_time": "2025-08-27T17:21:24.528016Z",
     "start_time": "2025-08-27T17:21:24.519841Z"
    }
   },
   "source": [
    "def delete_paises(df, cur_target, conn_target):\n",
    "    for i, ii in df.iterrows():\n",
    "        query = \"DELETE FROM paises WHERE id = %s\"\n",
    "        cur_target.execute(query, (ii['id'],))\n",
    "        conn_target.commit()\n",
    "\n",
    "\n",
    "def delete_jogadores(df, cur_target, conn_target):\n",
    "    for i, ii in df.iterrows():\n",
    "        query = \"DELETE FROM jogadores WHERE id = %s\"\n",
    "        cur_target.execute(query, (ii['id'],))\n",
    "        conn_target.commit()\n",
    "    conn_target.commit()\n",
    "\n",
    "\n",
    "\n",
    "def delete_partidas(df, cur_target, conn_target):\n",
    "    for i, ii in df.iterrows():\n",
    "        query = \"DELETE FROM partidas WHERE id = %s\"\n",
    "        cur_target.execute(query, (ii['id'],))\n",
    "        conn_target.commit()\n",
    "\n",
    "\n",
    "def delete_campeonatos(df, cur_target, conn_target):\n",
    "    for i, ii in df.iterrows():\n",
    "        query = \"DELETE FROM campeonatos WHERE id = %s\"\n",
    "        cur_target.execute(query, (ii['id'],))\n",
    "        conn_target.commit()\n",
    "\n",
    "def delete_fases(df, cur_target, conn_target):\n",
    "    for i, ii in df.iterrows():\n",
    "        query = \"DELETE FROM fases WHERE id = %s\"\n",
    "        cur_target.execute(query, (ii['id'],))\n",
    "        conn_target.commit()\n",
    "\n",
    "\n",
    "\n",
    "def delete_chaveamentos(df, cur_target, conn_target):\n",
    "    for i, ii in df.iterrows():\n",
    "        query = \"DELETE FROM chaveamento WHERE id = %s\"\n",
    "        cur_target.execute(query, (ii['id'],))\n",
    "        conn_target.commit()"
   ],
   "outputs": [],
   "execution_count": 82
  },
  {
   "cell_type": "code",
   "id": "e10bc215",
   "metadata": {
    "ExecuteTime": {
     "end_time": "2025-08-27T17:21:24.544565Z",
     "start_time": "2025-08-27T17:21:24.539635Z"
    }
   },
   "source": [
    "funcs = {\n",
    "    \"paises\": {\n",
    "        \"insert\": insert_paises,\n",
    "        \"update\": update_paises,\n",
    "        \"delete\": delete_paises\n",
    "    },\n",
    "    \"jogadores\": {\n",
    "        \"insert\": insert_jogadores,\n",
    "        \"update\": update_jogadores,\n",
    "        \"delete\": delete_jogadores\n",
    "    },\n",
    "    \"partidas\": {\n",
    "        \"insert\": insert_partidas,\n",
    "        \"update\": update_partidas,\n",
    "        \"delete\": delete_partidas\n",
    "    },\n",
    "    \"campeonatos\": {\n",
    "        \"insert\": insert_campeonatos,\n",
    "        \"update\": update_campeonatos,\n",
    "        \"delete\": delete_campeonatos\n",
    "    },\n",
    "    \"fases\": {\n",
    "        \"insert\": insert_fases,\n",
    "        \"update\": update_fases,\n",
    "        \"delete\": delete_fases\n",
    "    },\n",
    "    \"chaveamento\": {\n",
    "        \"insert\": insert_chaveamentos,\n",
    "        \"update\": update_chaveamentos,\n",
    "        \"delete\": delete_chaveamentos\n",
    "    }\n",
    "}"
   ],
   "outputs": [],
   "execution_count": 83
  },
  {
   "cell_type": "markdown",
   "id": "be474142",
   "metadata": {},
   "source": [
    "Funções de Controle da Última Sincronização"
   ]
  },
  {
   "cell_type": "code",
   "id": "078cad5d",
   "metadata": {
    "ExecuteTime": {
     "end_time": "2025-08-27T17:21:24.562623Z",
     "start_time": "2025-08-27T17:21:24.556621Z"
    }
   },
   "source": [
    "def get_last_sinc(conn_target):\n",
    "    last_sinc = pd.read_sql_query(\"SELECT MAX(ultima_sincronizacao) FROM controle_sincronizacao;\", conn_target)\n",
    "    return last_sinc.iloc[0, 0] or datetime(1900,1,1)\n",
    "\n",
    "def set_last_sinc(cur_target, conn_target):\n",
    "    data = datetime.now()\n",
    "    cur_target.execute(\"INSERT INTO controle_sincronizacao (ultima_sincronizacao) VALUES (%s)\", (data,))\n",
    "    conn_target.commit()"
   ],
   "outputs": [],
   "execution_count": 84
  },
  {
   "cell_type": "markdown",
   "id": "0553db35",
   "metadata": {},
   "source": [
    "Funções para localizar as inserções, atualizações e remoções de registros"
   ]
  },
  {
   "cell_type": "code",
   "id": "dc9b5bec",
   "metadata": {
    "ExecuteTime": {
     "end_time": "2025-08-27T17:21:24.584835Z",
     "start_time": "2025-08-27T17:21:24.577397Z"
    }
   },
   "source": [
    "def get_inserts(conn_source, table, last_sinc):\n",
    "    query = f\"SELECT * FROM {table} WHERE criado_em > '{last_sinc}'\"\n",
    "    return pd.read_sql(query, conn_source)\n",
    "\n",
    "def get_updates(conn_source, table, last_sinc):\n",
    "    query = f\"\"\"\n",
    "        SELECT * FROM {table}\n",
    "        WHERE atualizado_em > '{last_sinc}'\n",
    "        AND criado_em <= '{last_sinc}'\n",
    "    \"\"\"\n",
    "    return pd.read_sql(query, conn_source)\n",
    "\n",
    "def get_deletes(conn_source, table, last_sinc):\n",
    "    query = f\"\"\"\n",
    "        SELECT * FROM {table}\n",
    "        WHERE data_exclusao > '{last_sinc}'\n",
    "    \"\"\"\n",
    "    return pd.read_sql(query, conn_source)"
   ],
   "outputs": [],
   "execution_count": 85
  },
  {
   "cell_type": "markdown",
   "id": "6b09825c",
   "metadata": {},
   "source": [
    "Função de Sincronização de uma tabela"
   ]
  },
  {
   "cell_type": "code",
   "id": "1a1b76dd",
   "metadata": {
    "ExecuteTime": {
     "end_time": "2025-08-27T17:21:24.607393Z",
     "start_time": "2025-08-27T17:21:24.598392Z"
    }
   },
   "source": [
    "def sinc_table(conn_source, conn_target, cur_target, table, funcs, last_sinc):\n",
    "    inserts = get_inserts(conn_source, table, last_sinc)\n",
    "    updates = get_updates(conn_source, table, last_sinc)\n",
    "    deletes = get_deletes(conn_source, table, last_sinc)\n",
    "\n",
    "    if not inserts.empty:\n",
    "        funcs[table][\"insert\"](inserts, cur_target, conn_target)\n",
    "        print(f\"{table}: {len(inserts)} inseridos\")\n",
    "\n",
    "    if not updates.empty:\n",
    "        funcs[table][\"update\"](updates, cur_target, conn_target)\n",
    "        print(f\"{table}: {len(updates)} atualizados\")\n",
    "\n",
    "    if not deletes.empty:\n",
    "        funcs[table][\"delete\"](deletes, cur_target, conn_target)\n",
    "        print(f\"{table}: {len(deletes)} deletados\")\n"
   ],
   "outputs": [],
   "execution_count": 86
  },
  {
   "cell_type": "markdown",
   "id": "f31f5874",
   "metadata": {},
   "source": [
    "Função com Loop para Sincronizar todas as tabelas"
   ]
  },
  {
   "cell_type": "code",
   "id": "d200108d",
   "metadata": {
    "ExecuteTime": {
     "end_time": "2025-08-27T17:21:24.626381Z",
     "start_time": "2025-08-27T17:21:24.621312Z"
    }
   },
   "source": [
    "def sinc_all_tables():\n",
    "    last_sinc = get_last_sinc(conn_target)\n",
    "\n",
    "    for table in funcs.keys():\n",
    "        sinc_table(conn_source, conn_target, cur_target, table, funcs, last_sinc)\n",
    "\n",
    "    set_last_sinc(cur_target, conn_target)"
   ],
   "outputs": [],
   "execution_count": 87
  },
  {
   "metadata": {
    "ExecuteTime": {
     "end_time": "2025-08-27T17:21:32.621820Z",
     "start_time": "2025-08-27T17:21:24.657798Z"
    }
   },
   "cell_type": "code",
   "source": [
    "# Executa a sincronização\n",
    "sinc_all_tables()"
   ],
   "id": "d0909611f49b9b95",
   "outputs": [
    {
     "name": "stderr",
     "output_type": "stream",
     "text": [
      "C:\\Users\\rafaelcruz-ieg\\AppData\\Local\\Temp\\ipykernel_12596\\1966082394.py:2: UserWarning: pandas only supports SQLAlchemy connectable (engine/connection) or database string URI or sqlite3 DBAPI2 connection. Other DBAPI2 objects are not tested. Please consider using SQLAlchemy.\n",
      "  last_sinc = pd.read_sql_query(\"SELECT MAX(ultima_sincronizacao) FROM controle_sincronizacao;\", conn_target)\n",
      "C:\\Users\\rafaelcruz-ieg\\AppData\\Local\\Temp\\ipykernel_12596\\2807154314.py:3: UserWarning: pandas only supports SQLAlchemy connectable (engine/connection) or database string URI or sqlite3 DBAPI2 connection. Other DBAPI2 objects are not tested. Please consider using SQLAlchemy.\n",
      "  return pd.read_sql(query, conn_source)\n",
      "C:\\Users\\rafaelcruz-ieg\\AppData\\Local\\Temp\\ipykernel_12596\\2807154314.py:11: UserWarning: pandas only supports SQLAlchemy connectable (engine/connection) or database string URI or sqlite3 DBAPI2 connection. Other DBAPI2 objects are not tested. Please consider using SQLAlchemy.\n",
      "  return pd.read_sql(query, conn_source)\n",
      "C:\\Users\\rafaelcruz-ieg\\AppData\\Local\\Temp\\ipykernel_12596\\2807154314.py:18: UserWarning: pandas only supports SQLAlchemy connectable (engine/connection) or database string URI or sqlite3 DBAPI2 connection. Other DBAPI2 objects are not tested. Please consider using SQLAlchemy.\n",
      "  return pd.read_sql(query, conn_source)\n",
      "C:\\Users\\rafaelcruz-ieg\\AppData\\Local\\Temp\\ipykernel_12596\\2807154314.py:3: UserWarning: pandas only supports SQLAlchemy connectable (engine/connection) or database string URI or sqlite3 DBAPI2 connection. Other DBAPI2 objects are not tested. Please consider using SQLAlchemy.\n",
      "  return pd.read_sql(query, conn_source)\n",
      "C:\\Users\\rafaelcruz-ieg\\AppData\\Local\\Temp\\ipykernel_12596\\2807154314.py:11: UserWarning: pandas only supports SQLAlchemy connectable (engine/connection) or database string URI or sqlite3 DBAPI2 connection. Other DBAPI2 objects are not tested. Please consider using SQLAlchemy.\n",
      "  return pd.read_sql(query, conn_source)\n",
      "C:\\Users\\rafaelcruz-ieg\\AppData\\Local\\Temp\\ipykernel_12596\\2807154314.py:18: UserWarning: pandas only supports SQLAlchemy connectable (engine/connection) or database string URI or sqlite3 DBAPI2 connection. Other DBAPI2 objects are not tested. Please consider using SQLAlchemy.\n",
      "  return pd.read_sql(query, conn_source)\n",
      "C:\\Users\\rafaelcruz-ieg\\AppData\\Local\\Temp\\ipykernel_12596\\2807154314.py:3: UserWarning: pandas only supports SQLAlchemy connectable (engine/connection) or database string URI or sqlite3 DBAPI2 connection. Other DBAPI2 objects are not tested. Please consider using SQLAlchemy.\n",
      "  return pd.read_sql(query, conn_source)\n",
      "C:\\Users\\rafaelcruz-ieg\\AppData\\Local\\Temp\\ipykernel_12596\\2807154314.py:11: UserWarning: pandas only supports SQLAlchemy connectable (engine/connection) or database string URI or sqlite3 DBAPI2 connection. Other DBAPI2 objects are not tested. Please consider using SQLAlchemy.\n",
      "  return pd.read_sql(query, conn_source)\n",
      "C:\\Users\\rafaelcruz-ieg\\AppData\\Local\\Temp\\ipykernel_12596\\2807154314.py:18: UserWarning: pandas only supports SQLAlchemy connectable (engine/connection) or database string URI or sqlite3 DBAPI2 connection. Other DBAPI2 objects are not tested. Please consider using SQLAlchemy.\n",
      "  return pd.read_sql(query, conn_source)\n",
      "C:\\Users\\rafaelcruz-ieg\\AppData\\Local\\Temp\\ipykernel_12596\\2807154314.py:3: UserWarning: pandas only supports SQLAlchemy connectable (engine/connection) or database string URI or sqlite3 DBAPI2 connection. Other DBAPI2 objects are not tested. Please consider using SQLAlchemy.\n",
      "  return pd.read_sql(query, conn_source)\n",
      "C:\\Users\\rafaelcruz-ieg\\AppData\\Local\\Temp\\ipykernel_12596\\2807154314.py:11: UserWarning: pandas only supports SQLAlchemy connectable (engine/connection) or database string URI or sqlite3 DBAPI2 connection. Other DBAPI2 objects are not tested. Please consider using SQLAlchemy.\n",
      "  return pd.read_sql(query, conn_source)\n",
      "C:\\Users\\rafaelcruz-ieg\\AppData\\Local\\Temp\\ipykernel_12596\\2807154314.py:18: UserWarning: pandas only supports SQLAlchemy connectable (engine/connection) or database string URI or sqlite3 DBAPI2 connection. Other DBAPI2 objects are not tested. Please consider using SQLAlchemy.\n",
      "  return pd.read_sql(query, conn_source)\n",
      "C:\\Users\\rafaelcruz-ieg\\AppData\\Local\\Temp\\ipykernel_12596\\2807154314.py:3: UserWarning: pandas only supports SQLAlchemy connectable (engine/connection) or database string URI or sqlite3 DBAPI2 connection. Other DBAPI2 objects are not tested. Please consider using SQLAlchemy.\n",
      "  return pd.read_sql(query, conn_source)\n",
      "C:\\Users\\rafaelcruz-ieg\\AppData\\Local\\Temp\\ipykernel_12596\\2807154314.py:11: UserWarning: pandas only supports SQLAlchemy connectable (engine/connection) or database string URI or sqlite3 DBAPI2 connection. Other DBAPI2 objects are not tested. Please consider using SQLAlchemy.\n",
      "  return pd.read_sql(query, conn_source)\n",
      "C:\\Users\\rafaelcruz-ieg\\AppData\\Local\\Temp\\ipykernel_12596\\2807154314.py:18: UserWarning: pandas only supports SQLAlchemy connectable (engine/connection) or database string URI or sqlite3 DBAPI2 connection. Other DBAPI2 objects are not tested. Please consider using SQLAlchemy.\n",
      "  return pd.read_sql(query, conn_source)\n"
     ]
    },
    {
     "name": "stdout",
     "output_type": "stream",
     "text": [
      "fases: 1 inseridos\n"
     ]
    },
    {
     "name": "stderr",
     "output_type": "stream",
     "text": [
      "C:\\Users\\rafaelcruz-ieg\\AppData\\Local\\Temp\\ipykernel_12596\\2807154314.py:3: UserWarning: pandas only supports SQLAlchemy connectable (engine/connection) or database string URI or sqlite3 DBAPI2 connection. Other DBAPI2 objects are not tested. Please consider using SQLAlchemy.\n",
      "  return pd.read_sql(query, conn_source)\n",
      "C:\\Users\\rafaelcruz-ieg\\AppData\\Local\\Temp\\ipykernel_12596\\2807154314.py:11: UserWarning: pandas only supports SQLAlchemy connectable (engine/connection) or database string URI or sqlite3 DBAPI2 connection. Other DBAPI2 objects are not tested. Please consider using SQLAlchemy.\n",
      "  return pd.read_sql(query, conn_source)\n",
      "C:\\Users\\rafaelcruz-ieg\\AppData\\Local\\Temp\\ipykernel_12596\\2807154314.py:18: UserWarning: pandas only supports SQLAlchemy connectable (engine/connection) or database string URI or sqlite3 DBAPI2 connection. Other DBAPI2 objects are not tested. Please consider using SQLAlchemy.\n",
      "  return pd.read_sql(query, conn_source)\n"
     ]
    }
   ],
   "execution_count": 88
  }
 ],
 "metadata": {
  "kernelspec": {
   "display_name": "Python 3",
   "language": "python",
   "name": "python3"
  },
  "language_info": {
   "codemirror_mode": {
    "name": "ipython",
    "version": 3
   },
   "file_extension": ".py",
   "mimetype": "text/x-python",
   "name": "python",
   "nbconvert_exporter": "python",
   "pygments_lexer": "ipython3",
   "version": "3.13.3"
  }
 },
 "nbformat": 4,
 "nbformat_minor": 5
}
